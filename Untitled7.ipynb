{
  "nbformat": 4,
  "nbformat_minor": 0,
  "metadata": {
    "colab": {
      "provenance": [],
      "authorship_tag": "ABX9TyPCIhR7Z6AvekT6VrJuXtus",
      "include_colab_link": true
    },
    "kernelspec": {
      "name": "python3",
      "display_name": "Python 3"
    },
    "language_info": {
      "name": "python"
    }
  },
  "cells": [
    {
      "cell_type": "markdown",
      "metadata": {
        "id": "view-in-github",
        "colab_type": "text"
      },
      "source": [
        "<a href=\"https://colab.research.google.com/github/saransh6772/MTP/blob/main/Untitled7.ipynb\" target=\"_parent\"><img src=\"https://colab.research.google.com/assets/colab-badge.svg\" alt=\"Open In Colab\"/></a>"
      ]
    },
    {
      "cell_type": "code",
      "execution_count": null,
      "metadata": {
        "id": "f1-GnD63oWCF"
      },
      "outputs": [],
      "source": [
        "import os\n",
        "import math\n",
        "import copy\n",
        "import shutil\n",
        "import tarfile\n",
        "import requests\n",
        "import statistics\n",
        "import numpy as np\n",
        "import pandas as pd\n",
        "import xgboost as xgb\n",
        "import plotly.express as px\n",
        "from sklearn import metrics\n",
        "from sklearn.svm import SVC\n",
        "import matplotlib.pyplot as plt\n",
        "from sklearn import preprocessing\n",
        "from prettytable import PrettyTable\n",
        "from sklearn.pipeline import Pipeline\n",
        "from sklearn.decomposition import PCA\n",
        "from imblearn.over_sampling import SMOTE\n",
        "from sklearn.model_selection import KFold\n",
        "from sklearn_pandas import DataFrameMapper\n",
        "from sklearn.metrics import confusion_matrix\n",
        "from sklearn.preprocessing import StandardScaler\n",
        "from sklearn.neural_network import MLPClassifier\n",
        "from sklearn.tree import DecisionTreeClassifier\n",
        "from sklearn.neural_network import MLPClassifier\n",
        "from sklearn.neighbors import KNeighborsClassifier\n",
        "from sklearn.ensemble import RandomForestClassifier\n",
        "from sklearn.neighbors import KNeighborsClassifier\n",
        "from sklearn.model_selection import cross_val_score\n",
        "from sklearn.model_selection import train_test_split\n",
        "from imblearn.over_sampling import BorderlineSMOTE, ADASYN\n",
        "from sklearn.metrics import precision_recall_fscore_support\n",
        "from sklearn.feature_selection import SelectKBest, chi2, mutual_info_classif, f_classif, VarianceThreshold"
      ]
    },
    {
      "cell_type": "code",
      "source": [
        "!git clone https://github.com/saransh6772/MTP.git"
      ],
      "metadata": {
        "colab": {
          "base_uri": "https://localhost:8080/"
        },
        "id": "Zl_5Ro_Fr2eO",
        "outputId": "edfc2e2e-5f77-4bb7-d4ef-7db556b84d1f"
      },
      "execution_count": null,
      "outputs": [
        {
          "output_type": "stream",
          "name": "stdout",
          "text": [
            "Cloning into 'MTP'...\n",
            "remote: Enumerating objects: 68, done.\u001b[K\n",
            "remote: Counting objects: 100% (23/23), done.\u001b[K\n",
            "remote: Compressing objects: 100% (23/23), done.\u001b[K\n",
            "remote: Total 68 (delta 19), reused 1 (delta 0), pack-reused 45\u001b[K\n",
            "Receiving objects: 100% (68/68), 65.02 MiB | 17.81 MiB/s, done.\n",
            "Resolving deltas: 100% (38/38), done.\n"
          ]
        }
      ]
    },
    {
      "cell_type": "code",
      "source": [
        "file = tarfile.open('MTP/breast.tar.gz')\n",
        "file.extractall('./breast')\n",
        "file.close()\n",
        "\n",
        "file = tarfile.open('MTP/kidney.tar.gz')\n",
        "file.extractall('./kidney')\n",
        "file.close()\n",
        "\n",
        "file = tarfile.open('MTP/corpus uteri.tar.gz')\n",
        "file.extractall('./corpus uteri')\n",
        "file.close()\n",
        "\n",
        "file = tarfile.open('MTP/thyroid gland.tar.gz')\n",
        "file.extractall('./thyroid gland')\n",
        "file.close()\n",
        "\n",
        "file = tarfile.open('MTP/bronchus and lung.tar.gz')\n",
        "file.extractall('./bronchus and lung')\n",
        "file.close()\n",
        "\n",
        "file = tarfile.open('MTP/prostate gland.tar.gz')\n",
        "file.extractall('./prostate gland')\n",
        "file.close()\n",
        "\n",
        "file = tarfile.open('MTP/brain.tar.gz')\n",
        "file.extractall('./brain')\n",
        "file.close()\n",
        "\n",
        "file = tarfile.open('MTP/ovary.tar.gz')\n",
        "file.extractall('./ovary')\n",
        "file.close()\n",
        "\n",
        "file = tarfile.open('MTP/stomach.tar.gz')\n",
        "file.extractall('./stomach')\n",
        "file.close()\n",
        "\n",
        "file = tarfile.open('MTP/colon.tar.gz')\n",
        "file.extractall('./colon')\n",
        "file.close()\n",
        "\n",
        "file = tarfile.open('MTP/skin.tar.gz')\n",
        "file.extractall('./skin')\n",
        "file.close()\n",
        "\n",
        "file = tarfile.open('MTP/bladder.tar.gz')\n",
        "file.extractall('./bladder')\n",
        "file.close()\n",
        "\n",
        "file = tarfile.open('MTP/liver and intrahepatic bile ducts.tar.gz')\n",
        "file.extractall('./liver and intrahepatic bile ducts')\n",
        "file.close()\n",
        "\n",
        "file = tarfile.open('MTP/cervix uteri.tar.gz')\n",
        "file.extractall('./cervix uteri')\n",
        "file.close()\n",
        "\n",
        "file = tarfile.open('MTP/soft tissue.tar.gz')\n",
        "file.extractall('./soft tissue')\n",
        "file.close()\n",
        "\n",
        "file = tarfile.open('MTP/retroperitoneal and peritoneum.tar.gz')\n",
        "file.extractall('./retroperitoneal and peritoneum')\n",
        "file.close()\n",
        "\n",
        "file = tarfile.open('MTP/esophagus.tar.gz')\n",
        "file.extractall('./esophagus')\n",
        "file.close()\n",
        "\n",
        "file = tarfile.open('MTP/adrenal gland.tar.gz')\n",
        "file.extractall('./adrenal gland')\n",
        "file.close()\n",
        "\n",
        "file = tarfile.open('MTP/pancreas.tar.gz')\n",
        "file.extractall('./pancreas')\n",
        "file.close()\n",
        "\n",
        "file = tarfile.open('MTP/testis.tar.gz')\n",
        "file.extractall('./testis')\n",
        "file.close()\n"
      ],
      "metadata": {
        "id": "AF--zmHcwe4R"
      },
      "execution_count": null,
      "outputs": []
    },
    {
      "cell_type": "code",
      "source": [
        "shutil.rmtree(\"./breast\")"
      ],
      "metadata": {
        "id": "-_NQzvrMMJyy"
      },
      "execution_count": null,
      "outputs": []
    },
    {
      "cell_type": "code",
      "source": [
        "def tempclendata(path, csv_path, n_of_samples, class_number):\n",
        "  manifest_path = path + '/MANIFEST.txt'\n",
        "  os.remove(manifest_path)\n",
        "\n",
        "  dir_list_0 = os.listdir(path)\n",
        "\n",
        "  for i in range(0, n_of_samples):\n",
        "    old_path = path + '/' + dir_list_0[i]\n",
        "    old_file = os.listdir(old_path)\n",
        "\n",
        "    for j in range(len(old_file)-1):\n",
        "      if old_file[j] == 'annotations.txt':\n",
        "        old_file.remove(old_file[j])\n",
        "\n",
        "    old_file_path = old_path + '/' + old_file[0]\n",
        "\n",
        "    shutil.move(old_file_path, path)\n",
        "    shutil.rmtree(old_path)"
      ],
      "metadata": {
        "id": "6dzwGqhrOJ80"
      },
      "execution_count": null,
      "outputs": []
    },
    {
      "cell_type": "code",
      "source": [],
      "metadata": {
        "id": "YCXO5aIIOTFv"
      },
      "execution_count": null,
      "outputs": []
    },
    {
      "cell_type": "code",
      "source": [
        "def clean_data(path, csv_path, n_of_samples, class_number):\n",
        "\n",
        "\n",
        "\n",
        "\n",
        "  dir_list = os.listdir(path)\n",
        "\n",
        "  data = []\n",
        "  labels = []\n",
        "\n",
        "  csv_path = 'MTP' + '/' + csv_path\n",
        "  input_arr = np.loadtxt(csv_path, dtype='str', delimiter=',')\n",
        "  for i in range(0, n_of_samples):\n",
        "      for j in range(0, n_of_samples):\n",
        "\n",
        "          if input_arr[i][0] == dir_list[j]:\n",
        "              f_path = path + '/' + dir_list[j]\n",
        "              input_arr2 = np.genfromtxt(f_path, dtype='str', delimiter='\\t')\n",
        "              labels.append(input_arr[i][1])\n",
        "              data.append(input_arr2)\n",
        "\n",
        "  y_full = []\n",
        "  for x in range(len(labels)):\n",
        "      if labels[x] == \"Solid Tissue Normal\":\n",
        "          y_full.append(0)  ##0\n",
        "      else:\n",
        "          y_full.append(class_number)  ##1\n",
        "\n",
        "  x_full = []\n",
        "\n",
        "  data_copy = list(data)\n",
        "\n",
        "  miRNA_labels = []\n",
        "  flag = 0\n",
        "\n",
        "  for i in range(len(data_copy)):\n",
        "      data_copy[i] = list(data_copy[i])\n",
        "      data_copy[i].pop(0)\n",
        "      for j in range(len(data_copy[i])):\n",
        "          data_copy[i][j] = list(data_copy[i][j])\n",
        "          if flag == 0:\n",
        "            miRNA_labels.append(data_copy[i][j][0])\n",
        "          data_copy[i][j].pop(0)\n",
        "\n",
        "          data_copy[i][j][1] = float(data_copy[i][j][1])\n",
        "          data_copy[i][j].pop(0)\n",
        "          data_copy[i][j].pop(1)\n",
        "      flag = 1\n",
        "\n",
        "  for x in miRNA_labels:\n",
        "    x = str(x)\n",
        "\n",
        "  data_copy_2 = data_copy\n",
        "  for i in range(len(data_copy)):\n",
        "      data_copy_2[i] = np.resize(data_copy_2[i], 1881)\n",
        "\n",
        "  x_full = data_copy_2\n",
        "\n",
        "  return x_full, y_full, miRNA_labels\n"
      ],
      "metadata": {
        "id": "3gT9I3xawoP5"
      },
      "execution_count": null,
      "outputs": []
    },
    {
      "cell_type": "code",
      "source": [
        "def myTransform(x):\n",
        "  return np.log2(x+1)"
      ],
      "metadata": {
        "id": "W-QgNe6_w26c"
      },
      "execution_count": null,
      "outputs": []
    },
    {
      "cell_type": "code",
      "source": [
        "def standardize(x, labels):\n",
        "  x_df = pd.DataFrame(data=x, columns=labels)\n",
        "  x_df = x_df.applymap(myTransform)\n",
        "\n",
        "  mapper = DataFrameMapper([(x_df.columns, StandardScaler())])\n",
        "  scaled_features = mapper.fit_transform(x_df.copy(), 1881)\n",
        "  scaled_features_df = pd.DataFrame(scaled_features, index=x_df.index, columns=x_df.columns)\n",
        "\n",
        "  return scaled_features_df\n"
      ],
      "metadata": {
        "id": "OjJVeZ9mw7YW"
      },
      "execution_count": null,
      "outputs": []
    },
    {
      "cell_type": "code",
      "source": [
        "def log_standardize(x):\n",
        "  input_array = x\n",
        "  for i in range(len(input_array)):\n",
        "    for j in range(len(input_array[i])):\n",
        "      input_array[i][j] = math.log2(input_array[i][j] + 1)\n",
        "\n",
        "  return input_array\n"
      ],
      "metadata": {
        "id": "F4Uit3BExBxf"
      },
      "execution_count": null,
      "outputs": []
    },
    {
      "cell_type": "code",
      "source": [
        "def extract_features(x_df, y, number_of_features):\n",
        "\n",
        "  #remove zeros accross all samples\n",
        "  selector_1 = VarianceThreshold()\n",
        "  selector_1.fit_transform(x_df)\n",
        "  x = x_df.columns[selector_1.get_support()]\n",
        "\n",
        "  x_df = selector_1.fit_transform(x_df)\n",
        "  x_df = pd.DataFrame(data=x_df, columns=x)\n",
        "\n",
        "  selector = SelectKBest(mutual_info_classif, k=number_of_features)\n",
        "  selector.fit_transform(x_df, y)\n",
        "  top_features = x_df.columns[selector.get_support()]\n",
        "\n",
        "  x = PrettyTable()\n",
        "  x.add_column('Feature', top_features)\n",
        "  #print(x)\n",
        "  return top_features"
      ],
      "metadata": {
        "id": "J6BJryzyxLgq"
      },
      "execution_count": null,
      "outputs": []
    },
    {
      "cell_type": "code",
      "source": [
        "def clean_feature_extract(data_x, labels, top_10_features):\n",
        "  x_df = pd.DataFrame(data=data_x, columns=labels)\n",
        "\n",
        "  temp = []\n",
        "  for i in labels:\n",
        "    if i not in top_10_features:\n",
        "      temp.append(i)\n",
        "\n",
        "  x_df.drop(temp,axis=1,inplace=True)\n",
        "\n",
        "  x_features_ext = x_df.values\n",
        "\n",
        "  return(x_features_ext)"
      ],
      "metadata": {
        "id": "9gx8OT1LKnLO"
      },
      "execution_count": null,
      "outputs": []
    },
    {
      "cell_type": "code",
      "source": [
        "def RF(x,y):\n",
        "  clf = RandomForestClassifier(n_estimators=200)\n",
        "  pipeline = Pipeline(steps = [['scaler', StandardScaler()],\n",
        "                                  ['classifier', clf]])\n",
        "\n",
        "  cv = KFold(n_splits=5, shuffle=True)\n",
        "\n",
        "  accuracy = cross_val_score(pipeline, x, y, cv = cv)\n",
        "  precision = cross_val_score(pipeline, x, y, cv = cv, scoring='precision_macro')\n",
        "  recall = cross_val_score(pipeline, x, y, cv = cv, scoring='recall_macro')\n",
        "  return [statistics.mean(accuracy),statistics.mean(precision),statistics.mean(recall)]"
      ],
      "metadata": {
        "id": "uYOKvtTuxWu5"
      },
      "execution_count": null,
      "outputs": []
    },
    {
      "cell_type": "code",
      "source": [
        "def SVM(x,y):\n",
        "  clf = SVC(kernel=\"linear\")\n",
        "  pipeline = Pipeline(steps = [['scaler', StandardScaler()],\n",
        "                                  ['classifier', clf]])\n",
        "\n",
        "  cv = KFold(n_splits=5, shuffle=True)\n",
        "\n",
        "  accuracy = cross_val_score(pipeline, x, y, cv = cv)\n",
        "  precision = cross_val_score(pipeline, x, y, cv = cv, scoring='precision_macro')\n",
        "  recall = cross_val_score(pipeline, x, y, cv = cv, scoring='recall_macro')\n",
        "  return [statistics.mean(accuracy),statistics.mean(precision),statistics.mean(recall)]"
      ],
      "metadata": {
        "id": "y_5ULrXmxgGL"
      },
      "execution_count": null,
      "outputs": []
    },
    {
      "cell_type": "code",
      "source": [
        "def XGB(x,y):\n",
        "  clf = xgb.XGBClassifier(n_estimators=200)\n",
        "\n",
        "  pipeline = Pipeline(steps=[\n",
        "      ['scaler', StandardScaler()],\n",
        "      ['classifier', clf]\n",
        "  ])\n",
        "\n",
        "  cv = KFold(n_splits=5, shuffle=True)\n",
        "\n",
        "  accuracy = cross_val_score(pipeline, x, y, cv=cv)\n",
        "  precision = cross_val_score(pipeline, x, y, cv=cv, scoring='precision_macro')\n",
        "  recall = cross_val_score(pipeline, x, y, cv=cv, scoring='recall_macro')\n",
        "  return [statistics.mean(accuracy),statistics.mean(precision),statistics.mean(recall)]"
      ],
      "metadata": {
        "id": "h_hW0ktbTxjv"
      },
      "execution_count": null,
      "outputs": []
    },
    {
      "cell_type": "code",
      "source": [
        "def DT(x,y):\n",
        "  clf = DecisionTreeClassifier()\n",
        "\n",
        "  pipeline = Pipeline(steps=[\n",
        "      ['scaler', StandardScaler()],\n",
        "      ['classifier', clf]\n",
        "  ])\n",
        "\n",
        "  cv = KFold(n_splits=5, shuffle=True)\n",
        "\n",
        "  accuracy = cross_val_score(pipeline, x, y, cv=cv)\n",
        "  precision = cross_val_score(pipeline, x, y, cv=cv, scoring='precision_macro')\n",
        "  recall = cross_val_score(pipeline, x, y, cv=cv, scoring='recall_macro')\n",
        "  return [statistics.mean(accuracy),statistics.mean(precision),statistics.mean(recall)]"
      ],
      "metadata": {
        "id": "docjW-dbVlC_"
      },
      "execution_count": null,
      "outputs": []
    },
    {
      "cell_type": "code",
      "source": [
        "def KNN(x,y):\n",
        "  clf = KNeighborsClassifier()\n",
        "\n",
        "  pipeline = Pipeline(steps=[\n",
        "      ['scaler', StandardScaler()],\n",
        "      ['classifier', clf]\n",
        "  ])\n",
        "\n",
        "  cv = KFold(n_splits=5, shuffle=True)\n",
        "\n",
        "  accuracy = cross_val_score(pipeline, x, y, cv=cv)\n",
        "  precision = cross_val_score(pipeline, x, y, cv=cv, scoring='precision_macro')\n",
        "  recall = cross_val_score(pipeline, x, y, cv=cv, scoring='recall_macro')\n",
        "  return [statistics.mean(accuracy),statistics.mean(precision),statistics.mean(recall)]"
      ],
      "metadata": {
        "id": "H8BN7X0UWMzT"
      },
      "execution_count": null,
      "outputs": []
    },
    {
      "cell_type": "code",
      "source": [
        "def NN(x,y):\n",
        "  clf = MLPClassifier(hidden_layer_sizes=(100,), max_iter=1000)\n",
        "\n",
        "  # Define the pipeline with a scaler and the neural network classifier\n",
        "  pipeline = Pipeline(steps=[\n",
        "      ['scaler', StandardScaler()],\n",
        "      ['classifier', clf]\n",
        "  ])\n",
        "\n",
        "  # Define the cross-validation strategy\n",
        "  cv = KFold(n_splits=5, shuffle=True)\n",
        "\n",
        "  # Perform cross-validation\n",
        "  accuracy = cross_val_score(pipeline, x, y, cv=cv)\n",
        "  precision = cross_val_score(pipeline, x, y, cv=cv, scoring='precision_macro')\n",
        "  recall = cross_val_score(pipeline, x, y, cv=cv, scoring='recall_macro')\n",
        "  return [statistics.mean(accuracy),statistics.mean(precision),statistics.mean(recall)]"
      ],
      "metadata": {
        "id": "wMMHHZsWWq-C"
      },
      "execution_count": null,
      "outputs": []
    },
    {
      "cell_type": "code",
      "source": [
        "data_info = [\n",
        "    [\"./breast\", \"breast.csv\", 480, 1],\n",
        "    [\"./kidney\", \"kidney.csv\", 244, 2],\n",
        "    [\"./corpus uteri\", \"corpus uteri.csv\", 239, 3],\n",
        "    [\"./thyroid gland\", \"thyroid gland.csv\", 186, 4],\n",
        "    [\"./bronchus and lung\", \"bronchus and lung.csv\", 253, 5],\n",
        "    [\"./prostate gland\", \"prostate gland.csv\", 241, 6],\n",
        "    [\"./brain\", \"brain.csv\", 132, 7],\n",
        "    [\"./ovary\", \"ovary.csv\", 203, 8],\n",
        "    [\"./stomach\", \"stomach.csv\", 209, 9],\n",
        "    [\"./colon\", \"colon.csv\", 172, 10],\n",
        "    [\"./skin\", \"skin.csv\", 176, 11],\n",
        "    [\"./bladder\", \"bladder.csv\", 200, 12],\n",
        "    [\"./liver and intrahepatic bile ducts\", \"liver and intrahepatic bile ducts.csv\", 161, 13],\n",
        "    [\"./cervix uteri\", \"cervix uteri.csv\", 147, 14],\n",
        "    [\"./soft tissue\", \"soft tissue.csv\", 62, 15],\n",
        "    [\"./retroperitoneal and peritoneum\", \"retroperitoneal and peritoneum.csv\", 44, 16],\n",
        "    [\"./esophagus\", \"esophagus.csv\", 159, 17],\n",
        "    [\"./adrenal gland\", \"adrenal gland.csv\", 90, 18],\n",
        "    [\"./pancreas\", \"pancreas.csv\", 91, 19],\n",
        "    [\"./testis\", \"testis.csv\", 81, 20]\n",
        "]\n",
        "\n",
        "models = [\"Random Forest\", \"SVM\", \"Decision Tree\", \"KNN\", \"NN\"]\n",
        "metrics = [\"Accuracy\", \"Precision\", \"Recall\"]\n",
        "\n",
        "# Create an empty dataframe\n",
        "df = pd.DataFrame(index=models, columns=metrics)\n",
        "\n",
        "for i in data_info:\n",
        "  tempclendata(i[0], i[1], i[2],i[3])"
      ],
      "metadata": {
        "colab": {
          "base_uri": "https://localhost:8080/",
          "height": 323
        },
        "id": "zZtWepbyN5VU",
        "outputId": "90d29ee1-9878-46d8-88bb-6be1e46a2227"
      },
      "execution_count": null,
      "outputs": [
        {
          "output_type": "error",
          "ename": "NotADirectoryError",
          "evalue": "[Errno 20] Not a directory: './kidney/ec667463-d836-496b-a214-2c72a859b427.mirbase21.mirnas.quantification.txt'",
          "traceback": [
            "\u001b[0;31m---------------------------------------------------------------------------\u001b[0m",
            "\u001b[0;31mNotADirectoryError\u001b[0m                        Traceback (most recent call last)",
            "\u001b[0;32m<ipython-input-38-b7543866b7b3>\u001b[0m in \u001b[0;36m<cell line: 30>\u001b[0;34m()\u001b[0m\n\u001b[1;32m     29\u001b[0m \u001b[0;34m\u001b[0m\u001b[0m\n\u001b[1;32m     30\u001b[0m \u001b[0;32mfor\u001b[0m \u001b[0mi\u001b[0m \u001b[0;32min\u001b[0m \u001b[0mdata_info\u001b[0m\u001b[0;34m:\u001b[0m\u001b[0;34m\u001b[0m\u001b[0;34m\u001b[0m\u001b[0m\n\u001b[0;32m---> 31\u001b[0;31m   \u001b[0mtempclendata\u001b[0m\u001b[0;34m(\u001b[0m\u001b[0mi\u001b[0m\u001b[0;34m[\u001b[0m\u001b[0;36m0\u001b[0m\u001b[0;34m]\u001b[0m\u001b[0;34m,\u001b[0m \u001b[0mi\u001b[0m\u001b[0;34m[\u001b[0m\u001b[0;36m1\u001b[0m\u001b[0;34m]\u001b[0m\u001b[0;34m,\u001b[0m \u001b[0mi\u001b[0m\u001b[0;34m[\u001b[0m\u001b[0;36m2\u001b[0m\u001b[0;34m]\u001b[0m\u001b[0;34m,\u001b[0m\u001b[0mi\u001b[0m\u001b[0;34m[\u001b[0m\u001b[0;36m3\u001b[0m\u001b[0;34m]\u001b[0m\u001b[0;34m)\u001b[0m\u001b[0;34m\u001b[0m\u001b[0;34m\u001b[0m\u001b[0m\n\u001b[0m",
            "\u001b[0;32m<ipython-input-33-8869abf21f14>\u001b[0m in \u001b[0;36mtempclendata\u001b[0;34m(path, csv_path, n_of_samples, class_number)\u001b[0m\n\u001b[1;32m      7\u001b[0m   \u001b[0;32mfor\u001b[0m \u001b[0mi\u001b[0m \u001b[0;32min\u001b[0m \u001b[0mrange\u001b[0m\u001b[0;34m(\u001b[0m\u001b[0;36m0\u001b[0m\u001b[0;34m,\u001b[0m \u001b[0mn_of_samples\u001b[0m\u001b[0;34m)\u001b[0m\u001b[0;34m:\u001b[0m\u001b[0;34m\u001b[0m\u001b[0;34m\u001b[0m\u001b[0m\n\u001b[1;32m      8\u001b[0m     \u001b[0mold_path\u001b[0m \u001b[0;34m=\u001b[0m \u001b[0mpath\u001b[0m \u001b[0;34m+\u001b[0m \u001b[0;34m'/'\u001b[0m \u001b[0;34m+\u001b[0m \u001b[0mdir_list_0\u001b[0m\u001b[0;34m[\u001b[0m\u001b[0mi\u001b[0m\u001b[0;34m]\u001b[0m\u001b[0;34m\u001b[0m\u001b[0;34m\u001b[0m\u001b[0m\n\u001b[0;32m----> 9\u001b[0;31m     \u001b[0mold_file\u001b[0m \u001b[0;34m=\u001b[0m \u001b[0mos\u001b[0m\u001b[0;34m.\u001b[0m\u001b[0mlistdir\u001b[0m\u001b[0;34m(\u001b[0m\u001b[0mold_path\u001b[0m\u001b[0;34m)\u001b[0m\u001b[0;34m\u001b[0m\u001b[0;34m\u001b[0m\u001b[0m\n\u001b[0m\u001b[1;32m     10\u001b[0m \u001b[0;34m\u001b[0m\u001b[0m\n\u001b[1;32m     11\u001b[0m     \u001b[0;32mfor\u001b[0m \u001b[0mj\u001b[0m \u001b[0;32min\u001b[0m \u001b[0mrange\u001b[0m\u001b[0;34m(\u001b[0m\u001b[0mlen\u001b[0m\u001b[0;34m(\u001b[0m\u001b[0mold_file\u001b[0m\u001b[0;34m)\u001b[0m\u001b[0;34m-\u001b[0m\u001b[0;36m1\u001b[0m\u001b[0;34m)\u001b[0m\u001b[0;34m:\u001b[0m\u001b[0;34m\u001b[0m\u001b[0;34m\u001b[0m\u001b[0m\n",
            "\u001b[0;31mNotADirectoryError\u001b[0m: [Errno 20] Not a directory: './kidney/ec667463-d836-496b-a214-2c72a859b427.mirbase21.mirnas.quantification.txt'"
          ]
        }
      ]
    },
    {
      "cell_type": "code",
      "source": [
        "data_info = [\n",
        "    [\"./breast\", \"breast.csv\", 480, 1],\n",
        "    [\"./kidney\", \"kidney.csv\", 244, 2],\n",
        "    [\"./corpus uteri\", \"corpus uteri.csv\", 239, 3],\n",
        "    [\"./thyroid gland\", \"thyroid gland.csv\", 186, 4],\n",
        "    [\"./bronchus and lung\", \"bronchus and lung.csv\", 253, 5],\n",
        "    [\"./prostate gland\", \"prostate gland.csv\", 241, 6],\n",
        "    [\"./brain\", \"brain.csv\", 132, 7],\n",
        "    [\"./ovary\", \"ovary.csv\", 203, 8],\n",
        "    [\"./stomach\", \"stomach.csv\", 209, 9],\n",
        "    [\"./colon\", \"colon.csv\", 172, 10],\n",
        "    [\"./skin\", \"skin.csv\", 176, 11],\n",
        "    [\"./bladder\", \"bladder.csv\", 200, 12],\n",
        "    [\"./liver and intrahepatic bile ducts\", \"liver and intrahepatic bile ducts.csv\", 161, 13],\n",
        "    [\"./cervix uteri\", \"cervix uteri.csv\", 147, 14],\n",
        "    [\"./soft tissue\", \"soft tissue.csv\", 62, 15],\n",
        "    [\"./retroperitoneal and peritoneum\", \"retroperitoneal and peritoneum.csv\", 44, 16],\n",
        "    [\"./esophagus\", \"esophagus.csv\", 159, 17],\n",
        "    [\"./adrenal gland\", \"adrenal gland.csv\", 90, 18],\n",
        "    [\"./pancreas\", \"pancreas.csv\", 91, 19],\n",
        "    [\"./testis\", \"testis.csv\", 81, 20]\n",
        "]\n",
        "\n",
        "models = [\"Random Forest\", \"SVM\", \"Decision Tree\", \"KNN\", \"NN\"]\n",
        "metrics = [\"Accuracy\", \"Precision\", \"Recall\"]\n",
        "\n",
        "# Create an empty dataframe\n",
        "df = pd.DataFrame(index=models, columns=metrics)\n",
        "\n",
        "for i in data_info:\n",
        "  x, y, labels = clean_data(i[0], i[1], i[2],i[3])\n",
        "  data_x = copy.deepcopy(x)\n",
        "  data_y = copy.deepcopy(y)\n",
        "  feature_extraction_x = standardize(copy.deepcopy(data_x), labels)\n",
        "  feature_extraction_y = copy.deepcopy(data_y)\n",
        "  x = log_standardize(copy.deepcopy(x))\n",
        "  y = copy.deepcopy(y)\n",
        "  features = extract_features(feature_extraction_x, feature_extraction_y, 30)\n",
        "  print(features)\n",
        "  x = clean_feature_extract(x, labels, features)\n",
        "  placeholder_values = {\n",
        "    \"Random Forest\": RF(x,y),\n",
        "    \"SVM\": SVM(x,y),\n",
        "    \"Decision Tree\": DT(x,y),\n",
        "    \"KNN\": KNN(x,y),\n",
        "    \"NN\": NN(x,y)\n",
        "  }\n",
        "  for model, values in placeholder_values.items():\n",
        "      df.loc[model] = values\n",
        "  print(i[0])\n",
        "  print(df)"
      ],
      "metadata": {
        "id": "h3MQzo4iwu-H",
        "colab": {
          "base_uri": "https://localhost:8080/",
          "height": 1000
        },
        "outputId": "15633477-a748-465d-b263-b902c6d3695c"
      },
      "execution_count": null,
      "outputs": [
        {
          "output_type": "stream",
          "name": "stdout",
          "text": [
            "Index(['hsa-let-7c', 'hsa-mir-100', 'hsa-mir-10a', 'hsa-mir-10b',\n",
            "       'hsa-mir-1247', 'hsa-mir-125b-1', 'hsa-mir-125b-2', 'hsa-mir-139',\n",
            "       'hsa-mir-140', 'hsa-mir-143', 'hsa-mir-145', 'hsa-mir-181b-1',\n",
            "       'hsa-mir-182', 'hsa-mir-183', 'hsa-mir-195', 'hsa-mir-204',\n",
            "       'hsa-mir-21', 'hsa-mir-296', 'hsa-mir-328', 'hsa-mir-337',\n",
            "       'hsa-mir-378a', 'hsa-mir-429', 'hsa-mir-483', 'hsa-mir-486-1',\n",
            "       'hsa-mir-486-2', 'hsa-mir-511', 'hsa-mir-592', 'hsa-mir-874',\n",
            "       'hsa-mir-96', 'hsa-mir-99a'],\n",
            "      dtype='object')\n"
          ]
        },
        {
          "output_type": "stream",
          "name": "stderr",
          "text": [
            "/usr/local/lib/python3.10/dist-packages/sklearn/metrics/_classification.py:1344: UndefinedMetricWarning: Recall is ill-defined and being set to 0.0 in labels with no true samples. Use `zero_division` parameter to control this behavior.\n",
            "  _warn_prf(average, modifier, msg_start, len(result))\n"
          ]
        },
        {
          "output_type": "stream",
          "name": "stdout",
          "text": [
            "./breast\n",
            "               Accuracy Precision    Recall\n",
            "Random Forest  0.981818  0.928333  0.961111\n",
            "SVM            0.990909  0.966667  0.990238\n",
            "XGBoost        0.972727  0.964356  0.945238\n",
            "Decision Tree  0.963636     0.905  0.901642\n",
            "KNN            0.981818  0.966667  0.994444\n",
            "NN             0.990909      0.95  0.895455\n",
            "Index(['hsa-mir-1264', 'hsa-mir-1302-3', 'hsa-mir-2278', 'hsa-mir-3144',\n",
            "       'hsa-mir-3171', 'hsa-mir-3182', 'hsa-mir-3620', 'hsa-mir-371b',\n",
            "       'hsa-mir-449c', 'hsa-mir-4507', 'hsa-mir-4518', 'hsa-mir-4680',\n",
            "       'hsa-mir-4681', 'hsa-mir-4707', 'hsa-mir-4771-1', 'hsa-mir-525',\n",
            "       'hsa-mir-527', 'hsa-mir-548al', 'hsa-mir-588', 'hsa-mir-6504',\n",
            "       'hsa-mir-6510', 'hsa-mir-663b', 'hsa-mir-6799', 'hsa-mir-6805',\n",
            "       'hsa-mir-6832', 'hsa-mir-6873', 'hsa-mir-6881', 'hsa-mir-6889',\n",
            "       'hsa-mir-6895', 'hsa-mir-770'],\n",
            "      dtype='object')\n"
          ]
        },
        {
          "output_type": "stream",
          "name": "stderr",
          "text": [
            "/usr/local/lib/python3.10/dist-packages/sklearn/metrics/_classification.py:1344: UndefinedMetricWarning: Precision is ill-defined and being set to 0.0 in labels with no predicted samples. Use `zero_division` parameter to control this behavior.\n",
            "  _warn_prf(average, modifier, msg_start, len(result))\n",
            "/usr/local/lib/python3.10/dist-packages/sklearn/metrics/_classification.py:1344: UndefinedMetricWarning: Precision is ill-defined and being set to 0.0 in labels with no predicted samples. Use `zero_division` parameter to control this behavior.\n",
            "  _warn_prf(average, modifier, msg_start, len(result))\n",
            "/usr/local/lib/python3.10/dist-packages/sklearn/metrics/_classification.py:1344: UndefinedMetricWarning: Precision is ill-defined and being set to 0.0 in labels with no predicted samples. Use `zero_division` parameter to control this behavior.\n",
            "  _warn_prf(average, modifier, msg_start, len(result))\n",
            "/usr/local/lib/python3.10/dist-packages/sklearn/metrics/_classification.py:1344: UndefinedMetricWarning: Precision is ill-defined and being set to 0.0 in labels with no predicted samples. Use `zero_division` parameter to control this behavior.\n",
            "  _warn_prf(average, modifier, msg_start, len(result))\n",
            "/usr/local/lib/python3.10/dist-packages/sklearn/metrics/_classification.py:1344: UndefinedMetricWarning: Precision is ill-defined and being set to 0.0 in labels with no predicted samples. Use `zero_division` parameter to control this behavior.\n",
            "  _warn_prf(average, modifier, msg_start, len(result))\n",
            "/usr/local/lib/python3.10/dist-packages/sklearn/metrics/_classification.py:1344: UndefinedMetricWarning: Precision is ill-defined and being set to 0.0 in labels with no predicted samples. Use `zero_division` parameter to control this behavior.\n",
            "  _warn_prf(average, modifier, msg_start, len(result))\n",
            "/usr/local/lib/python3.10/dist-packages/sklearn/metrics/_classification.py:1344: UndefinedMetricWarning: Precision is ill-defined and being set to 0.0 in labels with no predicted samples. Use `zero_division` parameter to control this behavior.\n",
            "  _warn_prf(average, modifier, msg_start, len(result))\n"
          ]
        },
        {
          "output_type": "error",
          "ename": "ValueError",
          "evalue": "\nAll the 5 fits failed.\nIt is very likely that your model is misconfigured.\nYou can try to debug the error by setting error_score='raise'.\n\nBelow are more details about the failures:\n--------------------------------------------------------------------------------\n5 fits failed with the following error:\nTraceback (most recent call last):\n  File \"/usr/local/lib/python3.10/dist-packages/sklearn/model_selection/_validation.py\", line 686, in _fit_and_score\n    estimator.fit(X_train, y_train, **fit_params)\n  File \"/usr/local/lib/python3.10/dist-packages/sklearn/pipeline.py\", line 405, in fit\n    self._final_estimator.fit(Xt, y, **fit_params_last_step)\n  File \"/usr/local/lib/python3.10/dist-packages/xgboost/core.py\", line 730, in inner_f\n    return func(**kwargs)\n  File \"/usr/local/lib/python3.10/dist-packages/xgboost/sklearn.py\", line 1471, in fit\n    raise ValueError(\nValueError: Invalid classes inferred from unique values of `y`.  Expected: [0 1], got [0 2]\n",
          "traceback": [
            "\u001b[0;31m---------------------------------------------------------------------------\u001b[0m",
            "\u001b[0;31mValueError\u001b[0m                                Traceback (most recent call last)",
            "\u001b[0;32m<ipython-input-30-c3fa85f13389>\u001b[0m in \u001b[0;36m<cell line: 30>\u001b[0;34m()\u001b[0m\n\u001b[1;32m     42\u001b[0m     \u001b[0;34m\"Random Forest\"\u001b[0m\u001b[0;34m:\u001b[0m \u001b[0mRF\u001b[0m\u001b[0;34m(\u001b[0m\u001b[0mx\u001b[0m\u001b[0;34m,\u001b[0m\u001b[0my\u001b[0m\u001b[0;34m)\u001b[0m\u001b[0;34m,\u001b[0m\u001b[0;34m\u001b[0m\u001b[0;34m\u001b[0m\u001b[0m\n\u001b[1;32m     43\u001b[0m     \u001b[0;34m\"SVM\"\u001b[0m\u001b[0;34m:\u001b[0m \u001b[0mSVM\u001b[0m\u001b[0;34m(\u001b[0m\u001b[0mx\u001b[0m\u001b[0;34m,\u001b[0m\u001b[0my\u001b[0m\u001b[0;34m)\u001b[0m\u001b[0;34m,\u001b[0m\u001b[0;34m\u001b[0m\u001b[0;34m\u001b[0m\u001b[0m\n\u001b[0;32m---> 44\u001b[0;31m     \u001b[0;34m\"XGBoost\"\u001b[0m\u001b[0;34m:\u001b[0m \u001b[0mXGB\u001b[0m\u001b[0;34m(\u001b[0m\u001b[0mx\u001b[0m\u001b[0;34m,\u001b[0m\u001b[0my\u001b[0m\u001b[0;34m)\u001b[0m\u001b[0;34m,\u001b[0m\u001b[0;34m\u001b[0m\u001b[0;34m\u001b[0m\u001b[0m\n\u001b[0m\u001b[1;32m     45\u001b[0m     \u001b[0;34m\"Decision Tree\"\u001b[0m\u001b[0;34m:\u001b[0m \u001b[0mDT\u001b[0m\u001b[0;34m(\u001b[0m\u001b[0mx\u001b[0m\u001b[0;34m,\u001b[0m\u001b[0my\u001b[0m\u001b[0;34m)\u001b[0m\u001b[0;34m,\u001b[0m\u001b[0;34m\u001b[0m\u001b[0;34m\u001b[0m\u001b[0m\n\u001b[1;32m     46\u001b[0m     \u001b[0;34m\"KNN\"\u001b[0m\u001b[0;34m:\u001b[0m \u001b[0mKNN\u001b[0m\u001b[0;34m(\u001b[0m\u001b[0mx\u001b[0m\u001b[0;34m,\u001b[0m\u001b[0my\u001b[0m\u001b[0;34m)\u001b[0m\u001b[0;34m,\u001b[0m\u001b[0;34m\u001b[0m\u001b[0;34m\u001b[0m\u001b[0m\n",
            "\u001b[0;32m<ipython-input-12-4f0306684517>\u001b[0m in \u001b[0;36mXGB\u001b[0;34m(x, y)\u001b[0m\n\u001b[1;32m      9\u001b[0m   \u001b[0mcv\u001b[0m \u001b[0;34m=\u001b[0m \u001b[0mKFold\u001b[0m\u001b[0;34m(\u001b[0m\u001b[0mn_splits\u001b[0m\u001b[0;34m=\u001b[0m\u001b[0;36m5\u001b[0m\u001b[0;34m,\u001b[0m \u001b[0mshuffle\u001b[0m\u001b[0;34m=\u001b[0m\u001b[0;32mTrue\u001b[0m\u001b[0;34m)\u001b[0m\u001b[0;34m\u001b[0m\u001b[0;34m\u001b[0m\u001b[0m\n\u001b[1;32m     10\u001b[0m \u001b[0;34m\u001b[0m\u001b[0m\n\u001b[0;32m---> 11\u001b[0;31m   \u001b[0maccuracy\u001b[0m \u001b[0;34m=\u001b[0m \u001b[0mcross_val_score\u001b[0m\u001b[0;34m(\u001b[0m\u001b[0mpipeline\u001b[0m\u001b[0;34m,\u001b[0m \u001b[0mx\u001b[0m\u001b[0;34m,\u001b[0m \u001b[0my\u001b[0m\u001b[0;34m,\u001b[0m \u001b[0mcv\u001b[0m\u001b[0;34m=\u001b[0m\u001b[0mcv\u001b[0m\u001b[0;34m)\u001b[0m\u001b[0;34m\u001b[0m\u001b[0;34m\u001b[0m\u001b[0m\n\u001b[0m\u001b[1;32m     12\u001b[0m   \u001b[0mprecision\u001b[0m \u001b[0;34m=\u001b[0m \u001b[0mcross_val_score\u001b[0m\u001b[0;34m(\u001b[0m\u001b[0mpipeline\u001b[0m\u001b[0;34m,\u001b[0m \u001b[0mx\u001b[0m\u001b[0;34m,\u001b[0m \u001b[0my\u001b[0m\u001b[0;34m,\u001b[0m \u001b[0mcv\u001b[0m\u001b[0;34m=\u001b[0m\u001b[0mcv\u001b[0m\u001b[0;34m,\u001b[0m \u001b[0mscoring\u001b[0m\u001b[0;34m=\u001b[0m\u001b[0;34m'precision_macro'\u001b[0m\u001b[0;34m)\u001b[0m\u001b[0;34m\u001b[0m\u001b[0;34m\u001b[0m\u001b[0m\n\u001b[1;32m     13\u001b[0m   \u001b[0mrecall\u001b[0m \u001b[0;34m=\u001b[0m \u001b[0mcross_val_score\u001b[0m\u001b[0;34m(\u001b[0m\u001b[0mpipeline\u001b[0m\u001b[0;34m,\u001b[0m \u001b[0mx\u001b[0m\u001b[0;34m,\u001b[0m \u001b[0my\u001b[0m\u001b[0;34m,\u001b[0m \u001b[0mcv\u001b[0m\u001b[0;34m=\u001b[0m\u001b[0mcv\u001b[0m\u001b[0;34m,\u001b[0m \u001b[0mscoring\u001b[0m\u001b[0;34m=\u001b[0m\u001b[0;34m'recall_macro'\u001b[0m\u001b[0;34m)\u001b[0m\u001b[0;34m\u001b[0m\u001b[0;34m\u001b[0m\u001b[0m\n",
            "\u001b[0;32m/usr/local/lib/python3.10/dist-packages/sklearn/model_selection/_validation.py\u001b[0m in \u001b[0;36mcross_val_score\u001b[0;34m(estimator, X, y, groups, scoring, cv, n_jobs, verbose, fit_params, pre_dispatch, error_score)\u001b[0m\n\u001b[1;32m    513\u001b[0m     \u001b[0mscorer\u001b[0m \u001b[0;34m=\u001b[0m \u001b[0mcheck_scoring\u001b[0m\u001b[0;34m(\u001b[0m\u001b[0mestimator\u001b[0m\u001b[0;34m,\u001b[0m \u001b[0mscoring\u001b[0m\u001b[0;34m=\u001b[0m\u001b[0mscoring\u001b[0m\u001b[0;34m)\u001b[0m\u001b[0;34m\u001b[0m\u001b[0;34m\u001b[0m\u001b[0m\n\u001b[1;32m    514\u001b[0m \u001b[0;34m\u001b[0m\u001b[0m\n\u001b[0;32m--> 515\u001b[0;31m     cv_results = cross_validate(\n\u001b[0m\u001b[1;32m    516\u001b[0m         \u001b[0mestimator\u001b[0m\u001b[0;34m=\u001b[0m\u001b[0mestimator\u001b[0m\u001b[0;34m,\u001b[0m\u001b[0;34m\u001b[0m\u001b[0;34m\u001b[0m\u001b[0m\n\u001b[1;32m    517\u001b[0m         \u001b[0mX\u001b[0m\u001b[0;34m=\u001b[0m\u001b[0mX\u001b[0m\u001b[0;34m,\u001b[0m\u001b[0;34m\u001b[0m\u001b[0;34m\u001b[0m\u001b[0m\n",
            "\u001b[0;32m/usr/local/lib/python3.10/dist-packages/sklearn/model_selection/_validation.py\u001b[0m in \u001b[0;36mcross_validate\u001b[0;34m(estimator, X, y, groups, scoring, cv, n_jobs, verbose, fit_params, pre_dispatch, return_train_score, return_estimator, error_score)\u001b[0m\n\u001b[1;32m    283\u001b[0m     )\n\u001b[1;32m    284\u001b[0m \u001b[0;34m\u001b[0m\u001b[0m\n\u001b[0;32m--> 285\u001b[0;31m     \u001b[0m_warn_or_raise_about_fit_failures\u001b[0m\u001b[0;34m(\u001b[0m\u001b[0mresults\u001b[0m\u001b[0;34m,\u001b[0m \u001b[0merror_score\u001b[0m\u001b[0;34m)\u001b[0m\u001b[0;34m\u001b[0m\u001b[0;34m\u001b[0m\u001b[0m\n\u001b[0m\u001b[1;32m    286\u001b[0m \u001b[0;34m\u001b[0m\u001b[0m\n\u001b[1;32m    287\u001b[0m     \u001b[0;31m# For callabe scoring, the return type is only know after calling. If the\u001b[0m\u001b[0;34m\u001b[0m\u001b[0;34m\u001b[0m\u001b[0m\n",
            "\u001b[0;32m/usr/local/lib/python3.10/dist-packages/sklearn/model_selection/_validation.py\u001b[0m in \u001b[0;36m_warn_or_raise_about_fit_failures\u001b[0;34m(results, error_score)\u001b[0m\n\u001b[1;32m    365\u001b[0m                 \u001b[0;34mf\"Below are more details about the failures:\\n{fit_errors_summary}\"\u001b[0m\u001b[0;34m\u001b[0m\u001b[0;34m\u001b[0m\u001b[0m\n\u001b[1;32m    366\u001b[0m             )\n\u001b[0;32m--> 367\u001b[0;31m             \u001b[0;32mraise\u001b[0m \u001b[0mValueError\u001b[0m\u001b[0;34m(\u001b[0m\u001b[0mall_fits_failed_message\u001b[0m\u001b[0;34m)\u001b[0m\u001b[0;34m\u001b[0m\u001b[0;34m\u001b[0m\u001b[0m\n\u001b[0m\u001b[1;32m    368\u001b[0m \u001b[0;34m\u001b[0m\u001b[0m\n\u001b[1;32m    369\u001b[0m         \u001b[0;32melse\u001b[0m\u001b[0;34m:\u001b[0m\u001b[0;34m\u001b[0m\u001b[0;34m\u001b[0m\u001b[0m\n",
            "\u001b[0;31mValueError\u001b[0m: \nAll the 5 fits failed.\nIt is very likely that your model is misconfigured.\nYou can try to debug the error by setting error_score='raise'.\n\nBelow are more details about the failures:\n--------------------------------------------------------------------------------\n5 fits failed with the following error:\nTraceback (most recent call last):\n  File \"/usr/local/lib/python3.10/dist-packages/sklearn/model_selection/_validation.py\", line 686, in _fit_and_score\n    estimator.fit(X_train, y_train, **fit_params)\n  File \"/usr/local/lib/python3.10/dist-packages/sklearn/pipeline.py\", line 405, in fit\n    self._final_estimator.fit(Xt, y, **fit_params_last_step)\n  File \"/usr/local/lib/python3.10/dist-packages/xgboost/core.py\", line 730, in inner_f\n    return func(**kwargs)\n  File \"/usr/local/lib/python3.10/dist-packages/xgboost/sklearn.py\", line 1471, in fit\n    raise ValueError(\nValueError: Invalid classes inferred from unique values of `y`.  Expected: [0 1], got [0 2]\n"
          ]
        }
      ]
    }
  ]
}